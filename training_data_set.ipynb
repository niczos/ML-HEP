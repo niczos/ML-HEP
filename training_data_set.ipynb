{
 "cells": [
  {
   "cell_type": "code",
   "execution_count": 1,
   "metadata": {},
   "outputs": [
    {
     "name": "stdout",
     "output_type": "stream",
     "text": [
      "Welcome to JupyROOT 6.22/02\n"
     ]
    }
   ],
   "source": [
    "import ROOT as r\n",
    "import time\n",
    "import matplotlib.pyplot as plt\n",
    "import numpy as np\n",
    "import pandas as pd\n",
    "from sklearn.decomposition import PCA\n",
    "from sklearn import tree\n",
    "import math"
   ]
  },
  {
   "cell_type": "code",
   "execution_count": 2,
   "metadata": {},
   "outputs": [],
   "source": [
    "data1 = np.load('data1.npy',allow_pickle=True)\n",
    "data10 = np.load('data10.npy',allow_pickle=True)\n",
    "data100 = np.load('data100.npy',allow_pickle=True)\n",
    "np.random.shuffle(data1)\n",
    "np.random.shuffle(data10)\n",
    "np.random.shuffle(data100)"
   ]
  },
  {
   "cell_type": "code",
   "execution_count": 3,
   "metadata": {},
   "outputs": [],
   "source": [
    "X1=data1[:,:8]\n",
    "Y1=data1[:,-1]\n",
    "\n",
    "X10=data10[:,:8]\n",
    "Y10=data10[:,-1]\n",
    "\n",
    "X100=data100[:,:8]\n",
    "Y100=data100[:,-1]"
   ]
  },
  {
   "cell_type": "code",
   "execution_count": 4,
   "metadata": {},
   "outputs": [],
   "source": [
    "X1=PCA(n_components=2).fit_transform(X1)\n",
    "X10=PCA(n_components=2).fit_transform(X10)\n",
    "X100=PCA(n_components=2).fit_transform(X100)"
   ]
  },
  {
   "cell_type": "code",
   "execution_count": 5,
   "metadata": {},
   "outputs": [],
   "source": [
    "X1_train = X1[:100,:] \n",
    "y1_train = Y1[:100] \n",
    "X1_test = X1[100:,:] \n",
    "y1_test = Y1[100:] \n",
    "\n",
    "X10_train = X10[:1000,:] \n",
    "y10_train = Y10[:1000] \n",
    "X10_test = X10[1000:,:]  \n",
    "y10_test = Y10[1000:]\n",
    "\n",
    "X100_train = X100[:10000,:] \n",
    "y100_train = Y100[:10000] \n",
    "X100_test = X100[10000:,:] \n",
    "y100_test = Y100[10000:]"
   ]
  },
  {
   "cell_type": "code",
   "execution_count": 7,
   "metadata": {},
   "outputs": [],
   "source": [
    "def parameters(y_test,y_pred,sygnal,s,tlo,b):\n",
    "    for i in range(len(y_test)):\n",
    "        if y_test[i]==1:\n",
    "            sygnal+=1\n",
    "            if y_pred[i]==1:\n",
    "                s+=1\n",
    "        if y_test[i]==0:\n",
    "            tlo+=1\n",
    "            if y_pred[i]==0:\n",
    "                b+=1\n",
    "    b=tlo-b           \n",
    "    return s/(math.sqrt(abs(s+b)))"
   ]
  },
  {
   "cell_type": "markdown",
   "metadata": {},
   "source": [
    "### Model drzewa decyzyjnego"
   ]
  },
  {
   "cell_type": "code",
   "execution_count": 8,
   "metadata": {},
   "outputs": [],
   "source": [
    "clf = tree.DecisionTreeClassifier()"
   ]
  },
  {
   "cell_type": "code",
   "execution_count": 9,
   "metadata": {},
   "outputs": [],
   "source": [
    "sygnal1 =0\n",
    "tlo1 = 0\n",
    "s1=0\n",
    "b1=0\n",
    "\n",
    "sygnal10 =0\n",
    "tlo10 = 0\n",
    "s10=0\n",
    "b10=0\n",
    "\n",
    "sygnal100 =0\n",
    "tlo100 = 0\n",
    "s100=0\n",
    "b100=0"
   ]
  },
  {
   "cell_type": "code",
   "execution_count": 10,
   "metadata": {},
   "outputs": [
    {
     "data": {
      "text/plain": [
       "23.120864997864004"
      ]
     },
     "execution_count": 10,
     "metadata": {},
     "output_type": "execute_result"
    }
   ],
   "source": [
    "clf.fit(X1_train,y1_train)\n",
    "y1_predclf = clf.predict(X1_test)\n",
    "parameters(y1_test,y1_predclf,sygnal1,s1,tlo1,b1)"
   ]
  },
  {
   "cell_type": "code",
   "execution_count": 11,
   "metadata": {},
   "outputs": [
    {
     "data": {
      "text/plain": [
       "22.015443895014585"
      ]
     },
     "execution_count": 11,
     "metadata": {},
     "output_type": "execute_result"
    }
   ],
   "source": [
    "clf.fit(X10_train,y10_train)\n",
    "y10_predclf = clf.predict(X10_test)\n",
    "parameters(y10_test,y10_predclf,sygnal10,s10,tlo10,b10)"
   ]
  },
  {
   "cell_type": "code",
   "execution_count": 12,
   "metadata": {},
   "outputs": [
    {
     "data": {
      "text/plain": [
       "23.813231797533117"
      ]
     },
     "execution_count": 12,
     "metadata": {},
     "output_type": "execute_result"
    }
   ],
   "source": [
    "clf.fit(X100_train,y100_train)\n",
    "y100_predclf = clf.predict(X100_test)\n",
    "parameters(y100_test,y100_predclf,sygnal100,s100,tlo100,b100)"
   ]
  },
  {
   "cell_type": "markdown",
   "metadata": {},
   "source": [
    "### Metoda maszyny wektorów nośnych (SVM)"
   ]
  },
  {
   "cell_type": "code",
   "execution_count": 13,
   "metadata": {},
   "outputs": [],
   "source": [
    "from sklearn import svm\n",
    "svc = svm.SVC()"
   ]
  },
  {
   "cell_type": "code",
   "execution_count": 14,
   "metadata": {},
   "outputs": [],
   "source": [
    "sygnal1svm =0\n",
    "tlo1svm = 0\n",
    "s1svm=0\n",
    "b1svm=0\n",
    "\n",
    "sygnal10svm =0\n",
    "tlo10svm = 0\n",
    "s10svm=0\n",
    "b10svm=0\n",
    "\n",
    "sygnal100svm =0\n",
    "tlo100svm = 0\n",
    "s100svm=0\n",
    "b100svm=0"
   ]
  },
  {
   "cell_type": "code",
   "execution_count": 15,
   "metadata": {},
   "outputs": [
    {
     "data": {
      "text/plain": [
       "10.729065218691051"
      ]
     },
     "execution_count": 15,
     "metadata": {},
     "output_type": "execute_result"
    }
   ],
   "source": [
    "svc.fit(X1_train,y1_train)\n",
    "y1_predsvc =svc.predict(X1_test)\n",
    "parameters(y1_test,y1_predsvc,sygnal1svm,s1svm,tlo1svm,b1svm)"
   ]
  },
  {
   "cell_type": "code",
   "execution_count": 16,
   "metadata": {},
   "outputs": [
    {
     "ename": "ZeroDivisionError",
     "evalue": "float division by zero",
     "output_type": "error",
     "traceback": [
      "\u001b[0;31m---------------------------------------------------------------------------\u001b[0m",
      "\u001b[0;31mZeroDivisionError\u001b[0m                         Traceback (most recent call last)",
      "\u001b[0;32m<ipython-input-16-20c7ad4a9aca>\u001b[0m in \u001b[0;36m<module>\u001b[0;34m\u001b[0m\n\u001b[1;32m      1\u001b[0m \u001b[0msvc\u001b[0m\u001b[0;34m.\u001b[0m\u001b[0mfit\u001b[0m\u001b[0;34m(\u001b[0m\u001b[0mX10_train\u001b[0m\u001b[0;34m,\u001b[0m\u001b[0my10_train\u001b[0m\u001b[0;34m)\u001b[0m\u001b[0;34m\u001b[0m\u001b[0;34m\u001b[0m\u001b[0m\n\u001b[1;32m      2\u001b[0m \u001b[0my10_predsvc\u001b[0m \u001b[0;34m=\u001b[0m\u001b[0msvc\u001b[0m\u001b[0;34m.\u001b[0m\u001b[0mpredict\u001b[0m\u001b[0;34m(\u001b[0m\u001b[0mX10_test\u001b[0m\u001b[0;34m)\u001b[0m\u001b[0;34m\u001b[0m\u001b[0;34m\u001b[0m\u001b[0m\n\u001b[0;32m----> 3\u001b[0;31m \u001b[0mparameters\u001b[0m\u001b[0;34m(\u001b[0m\u001b[0my10_test\u001b[0m\u001b[0;34m,\u001b[0m\u001b[0my10_predsvc\u001b[0m\u001b[0;34m,\u001b[0m\u001b[0msygnal10svm\u001b[0m\u001b[0;34m,\u001b[0m\u001b[0ms10svm\u001b[0m\u001b[0;34m,\u001b[0m\u001b[0mtlo10svm\u001b[0m\u001b[0;34m,\u001b[0m\u001b[0mb10svm\u001b[0m\u001b[0;34m)\u001b[0m\u001b[0;34m\u001b[0m\u001b[0;34m\u001b[0m\u001b[0m\n\u001b[0m",
      "\u001b[0;32m<ipython-input-7-d8f3f57eea1f>\u001b[0m in \u001b[0;36mparameters\u001b[0;34m(y_test, y_pred, sygnal, s, tlo, b)\u001b[0m\n\u001b[1;32m     10\u001b[0m                 \u001b[0mb\u001b[0m\u001b[0;34m+=\u001b[0m\u001b[0;36m1\u001b[0m\u001b[0;34m\u001b[0m\u001b[0;34m\u001b[0m\u001b[0m\n\u001b[1;32m     11\u001b[0m     \u001b[0mb\u001b[0m\u001b[0;34m=\u001b[0m\u001b[0mtlo\u001b[0m\u001b[0;34m-\u001b[0m\u001b[0mb\u001b[0m\u001b[0;34m\u001b[0m\u001b[0;34m\u001b[0m\u001b[0m\n\u001b[0;32m---> 12\u001b[0;31m     \u001b[0;32mreturn\u001b[0m \u001b[0ms\u001b[0m\u001b[0;34m/\u001b[0m\u001b[0;34m(\u001b[0m\u001b[0mmath\u001b[0m\u001b[0;34m.\u001b[0m\u001b[0msqrt\u001b[0m\u001b[0;34m(\u001b[0m\u001b[0mabs\u001b[0m\u001b[0;34m(\u001b[0m\u001b[0ms\u001b[0m\u001b[0;34m+\u001b[0m\u001b[0mb\u001b[0m\u001b[0;34m)\u001b[0m\u001b[0;34m)\u001b[0m\u001b[0;34m)\u001b[0m\u001b[0;34m\u001b[0m\u001b[0;34m\u001b[0m\u001b[0m\n\u001b[0m",
      "\u001b[0;31mZeroDivisionError\u001b[0m: float division by zero"
     ]
    }
   ],
   "source": [
    "#svc.fit(X10_train,y10_train)\n",
    "#y10_predsvc =svc.predict(X10_test)\n",
    "#parameters(y10_test,y10_predsvc,sygnal10svm,s10svm,tlo10svm,b10svm)"
   ]
  },
  {
   "cell_type": "code",
   "execution_count": 17,
   "metadata": {},
   "outputs": [
    {
     "data": {
      "text/plain": [
       "3.7416573867739413"
      ]
     },
     "execution_count": 17,
     "metadata": {},
     "output_type": "execute_result"
    }
   ],
   "source": [
    "svc.fit(X100_train,y100_train)\n",
    "y100_predsvc =svc.predict(X100_test)\n",
    "parameters(y100_test,y100_predsvc,sygnal100svm,s100svm,tlo100svm,b100svm)"
   ]
  },
  {
   "cell_type": "markdown",
   "metadata": {},
   "source": [
    "### Metoda najbliższego sąsiada"
   ]
  },
  {
   "cell_type": "code",
   "execution_count": 18,
   "metadata": {},
   "outputs": [],
   "source": [
    "from sklearn.neighbors import KNeighborsClassifier\n",
    "neigh = KNeighborsClassifier(n_neighbors=3)"
   ]
  },
  {
   "cell_type": "code",
   "execution_count": 19,
   "metadata": {},
   "outputs": [],
   "source": [
    "sygnal1neigh =0\n",
    "tlo1neigh = 0\n",
    "s1neigh=0\n",
    "b1neigh=0\n",
    "\n",
    "sygnal10neigh =0\n",
    "tlo10neigh = 0\n",
    "s10neigh=0\n",
    "b10neigh=0\n",
    "\n",
    "sygnal100neigh =0\n",
    "tlo100neigh = 0\n",
    "s100neigh=0\n",
    "b100neigh=0"
   ]
  },
  {
   "cell_type": "code",
   "execution_count": 20,
   "metadata": {},
   "outputs": [
    {
     "data": {
      "text/plain": [
       "20.011901220928273"
      ]
     },
     "execution_count": 20,
     "metadata": {},
     "output_type": "execute_result"
    }
   ],
   "source": [
    "neigh.fit(X1_train, y1_train)\n",
    "y1_predneigh = neigh.predict(X1_test)\n",
    "parameters(y1_test,y1_predneigh,sygnal1neigh,s1neigh,tlo1neigh,b1neigh)"
   ]
  },
  {
   "cell_type": "code",
   "execution_count": 21,
   "metadata": {},
   "outputs": [
    {
     "data": {
      "text/plain": [
       "16.569133055557433"
      ]
     },
     "execution_count": 21,
     "metadata": {},
     "output_type": "execute_result"
    }
   ],
   "source": [
    "neigh.fit(X10_train, y10_train)\n",
    "y10_predneigh = neigh.predict(X10_test)\n",
    "parameters(y10_test,y10_predneigh,sygnal10neigh,s10neigh,tlo10neigh,b10neigh)"
   ]
  },
  {
   "cell_type": "code",
   "execution_count": 22,
   "metadata": {},
   "outputs": [
    {
     "data": {
      "text/plain": [
       "18.785240566942303"
      ]
     },
     "execution_count": 22,
     "metadata": {},
     "output_type": "execute_result"
    }
   ],
   "source": [
    "neigh.fit(X100_train, y100_train)\n",
    "y100_predneigh = neigh.predict(X100_test)\n",
    "parameters(y100_test,y100_predneigh,sygnal10neigh,s10neigh,tlo10neigh,b10neigh)"
   ]
  },
  {
   "cell_type": "code",
   "execution_count": null,
   "metadata": {},
   "outputs": [],
   "source": []
  },
  {
   "cell_type": "code",
   "execution_count": null,
   "metadata": {},
   "outputs": [],
   "source": []
  }
 ],
 "metadata": {
  "kernelspec": {
   "display_name": "Python 3",
   "language": "python",
   "name": "python3"
  },
  "language_info": {
   "codemirror_mode": {
    "name": "ipython",
    "version": 3
   },
   "file_extension": ".py",
   "mimetype": "text/x-python",
   "name": "python",
   "nbconvert_exporter": "python",
   "pygments_lexer": "ipython3",
   "version": "3.8.5"
  }
 },
 "nbformat": 4,
 "nbformat_minor": 4
}
