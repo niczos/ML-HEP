{
 "cells": [
  {
   "cell_type": "code",
   "execution_count": 8,
   "metadata": {},
   "outputs": [],
   "source": [
    "import random\n",
    "import math\n",
    "import matplotlib.pyplot as plt\n",
    "import numpy as np"
   ]
  },
  {
   "cell_type": "markdown",
   "metadata": {},
   "source": [
    "# Pospieszność i pseudopospieszność\n",
    "Celem zadania jest porównanie rozkładów pospieszności i pseudopospieszności dla mezonów $\\pi$, $K$ i $D^{0}$. Wartości pospieszności $y$ oraz pędu poprzecznego $p_T$ zostały wylosowane z rozkładu jednorodnego. \n",
    "Do wykonania zadania posługujemy się następującymi wzorami:\n",
    "\n",
    "$m_T = \\sqrt{p_T^2+m^2}$\n",
    "\n",
    "$p_Z = m_T\\cdot sinh(y) $\n",
    "\n",
    "$ \\theta = tg\\left(\\frac{p_T}{p_Z}\\right) $\n",
    "\n",
    "$ \\eta = arctgh(cos\\theta) $\n",
    "\n",
    "Masy mezonów wynoszą odpowiednio:\n",
    "\n",
    "$m_{\\pi} = 139.57018 MeV$\n",
    "\n",
    "$m_{K} = 493.677 MeV$\n",
    "\n",
    "$m_{D^0} = 1864.6 MeV$\n",
    "\n",
    "\n",
    "\n"
   ]
  },
  {
   "cell_type": "code",
   "execution_count": 9,
   "metadata": {},
   "outputs": [],
   "source": [
    "rapidity = []\n",
    "momentum_t = []\n",
    "\n",
    "m_tpi = []\n",
    "m_tk = []\n",
    "m_td = []\n",
    "\n",
    "p_zpi = []\n",
    "p_zk = []\n",
    "p_zd = []\n",
    "\n",
    "theta_pi = []\n",
    "theta_k = []\n",
    "theta_d = []\n",
    "\n",
    "eta_pi = []\n",
    "eta_k = []\n",
    "eta_d = []\n",
    "\n",
    "m_pi = 139.57018\n",
    "m_k = 493.677\n",
    "m_d = 1864.6"
   ]
  },
  {
   "cell_type": "code",
   "execution_count": 10,
   "metadata": {
    "tags": []
   },
   "outputs": [],
   "source": [
    "for i in range(0,10000):\n",
    "    y = random.uniform(-5,5)\n",
    "    p_t = random.uniform(0,2000)\n",
    "    rapidity.append(y)\n",
    "    momentum_t.append(p_t)\n",
    "    \n",
    "# mezon pi    \n",
    "    m_tpi.append(math.sqrt(p_t**2+m_pi**2))\n",
    "    p_zpi.append(m_tpi[i]*math.sinh(y))\n",
    "    theta_pi.append(p_zpi[i]/(math.sqrt(p_t**2+p_zpi[i]**2)))\n",
    "    eta_pi.append(np.arctanh(theta_pi[i]))\n",
    "# mezon K   \n",
    "    m_tk.append(math.sqrt(p_t**2+m_k**2))\n",
    "    p_zk.append(m_tk[i]*math.sinh(y))\n",
    "    theta_k.append(p_zk[i]/(math.sqrt(p_t**2+p_zk[i]**2)))\n",
    "    eta_k.append(np.arctanh(theta_k[i]))\n",
    "    \n",
    "# mezon D^0\n",
    "    m_td.append(math.sqrt(p_t**2+m_d**2))\n",
    "    p_zd.append(m_td[i]*math.sinh(y))\n",
    "    theta_d.append(p_zd[i]/(math.sqrt(p_t**2+p_zd[i]**2)))\n",
    "    eta_d.append(np.arctanh(theta_d[i]))"
   ]
  },
  {
   "cell_type": "code",
   "execution_count": 11,
   "metadata": {
    "scrolled": true
   },
   "outputs": [
    {
     "data": {
      "image/png": "[encoded data removed]",
      "text/plain": [
       "<Figure size 432x288 with 1 Axes>"
      ]
     },
     "metadata": {
      "needs_background": "light"
     },
     "output_type": "display_data"
    }
   ],
   "source": [
    "plt.hist(rapidity, bins = 100)\n",
    "plt.title('Rapidity histogram')\n",
    "plt.xlabel('$y$')\n",
    "plt.show()"
   ]
  },
  {
   "cell_type": "code",
   "execution_count": 12,
   "metadata": {},
   "outputs": [
    {
     "data": {
      "image/png": "[encoded data removed]",
      "text/plain": [
       "<Figure size 432x288 with 1 Axes>"
      ]
     },
     "metadata": {
      "needs_background": "light"
     },
     "output_type": "display_data"
    }
   ],
   "source": [
    "plt.hist(eta_pi, bins =100 )\n",
    "plt.title('Pseudorapidity histogram of $\\pi$')\n",
    "plt.xlabel('$\\eta$')\n",
    "plt.show()\n"
   ]
  },
  {
   "cell_type": "code",
   "execution_count": 13,
   "metadata": {},
   "outputs": [
    {
     "data": {
      "image/png": "[encoded data removed]",
      "text/plain": [
       "<Figure size 432x288 with 1 Axes>"
      ]
     },
     "metadata": {
      "needs_background": "light"
     },
     "output_type": "display_data"
    }
   ],
   "source": [
    "plt.hist(eta_k, bins =100 )\n",
    "plt.title('Pseudorapidity histogram of $K$')\n",
    "plt.xlabel('$\\eta$')\n",
    "plt.show()\n"
   ]
  },
  {
   "cell_type": "code",
   "execution_count": 14,
   "metadata": {
    "scrolled": true
   },
   "outputs": [
    {
     "data": {
      "image/png": "[encoded data removed]",
      "text/plain": [
       "<Figure size 432x288 with 1 Axes>"
      ]
     },
     "metadata": {
      "needs_background": "light"
     },
     "output_type": "display_data"
    }
   ],
   "source": [
    "plt.hist(eta_d, bins =100 )\n",
    "plt.title('Pseudorapidity histogram of $D^0$')\n",
    "plt.xlabel('$\\eta$')\n",
    "plt.show()\n"
   ]
  },
  {
   "cell_type": "markdown",
   "metadata": {},
   "source": [
    "Histogram pospieszności $y$ posiada rozkład jednostajny. \n",
    "\n",
    "Histogramy pseudopospieszności $\\eta$ mezonów $\\pi$, $K$ oraz $D^0$ posiadają maksimum globalne. Dla mezonu $\\pi$ maksimum znajduje się w pobliżu wartości $\\eta$ równej 6, dla mezonu $K$ maksimum występuje około wartości 7, natomiast dla $D^0$ wynosi ponad 8. Można wywnioskować, iż im cięższy mezon, tym posiada on większą peudopospieszność."
   ]
  }
 ],
 "metadata": {
  "kernelspec": {
   "display_name": "Python 3",
   "language": "python",
   "name": "python3"
  },
  "language_info": {
   "codemirror_mode": {
    "name": "ipython",
    "version": 3
   },
   "file_extension": ".py",
   "mimetype": "text/x-python",
   "name": "python",
   "nbconvert_exporter": "python",
   "pygments_lexer": "ipython3",
   "version": "3.8.2"
  }
 },
 "nbformat": 4,
 "nbformat_minor": 4
}
